{
 "cells": [
  {
   "cell_type": "code",
   "execution_count": 5,
   "metadata": {},
   "outputs": [],
   "source": [
    "import gymnasium as gym\n",
    "import numpy as np\n",
    "import matplotlib.pyplot as plt\n",
    "from stable_baselines3 import DQN\n",
    "import torch\n",
    "from train import CLIPReward, HybridRewardEnv\n",
    "\n",
    "device = torch.device(\"cuda\" if torch.cuda.is_available() else \"cpu\")"
   ]
  },
  {
   "cell_type": "code",
   "execution_count": 9,
   "metadata": {},
   "outputs": [],
   "source": [
    "def evaluate_model(model_path, num_episodes=10):\n",
    "\n",
    "    # Env - Cartpole\n",
    "    env = gym.make(\"CartPole-v1\", render_mode=\"rgb_array\")\n",
    "    \n",
    "    # Reward Model - clip annd hybrid\n",
    "    clip_reward = CLIPReward(device=device, goal_prompt=\"pole vertically upright on top of the cart\")\n",
    "    env = HybridRewardEnv(env, clip_reward)\n",
    "    model = DQN.load(model_path)\n",
    "\n",
    "    episode_reward = []\n",
    "    pole_angles = []  \n",
    "    step_rewards = []          \n",
    "\n",
    "    for ep in range(num_episodes):\n",
    "        obs, info = env.reset()\n",
    "        done = False\n",
    "        ep_reward = 0\n",
    "        ep_angles = []\n",
    "        while not done:\n",
    "            action, _ = model.predict(obs, deterministic=True)\n",
    "            obs, reward, terminated, truncated, info = env.step(action)\n",
    "            ep_reward += reward\n",
    "            if \"pole_angle\" in info:\n",
    "                angle = info[\"pole_angle\"]\n",
    "            elif hasattr(env.env.unwrapped, \"state\"):\n",
    "                angle = env.env.unwrapped.state[2] \n",
    "                info[\"pole_angle\"] = angle\n",
    "            else:\n",
    "                angle = None\n",
    "            if angle is not None:\n",
    "                ep_angles.append(angle)\n",
    "                step_rewards.append(reward)\n",
    "            done = terminated or truncated\n",
    "        episode_reward.append(ep_reward)\n",
    "        pole_angles.extend(ep_angles)\n",
    "        print(f\"Episode = {ep+1} | Cumulative Reward = {ep_reward}\")\n",
    "\n",
    "    plt.figure()\n",
    "    plt.plot(episode_reward, marker='o')\n",
    "    plt.title(\"Cumulative Reward vs Episode\")\n",
    "    plt.xlabel(\"Episode\")\n",
    "    plt.ylabel(\"Cumulative Reward\")\n",
    "    plt.savefig(\"episode_rewards.png\")\n",
    "\n",
    "    if pole_angles:\n",
    "        plt.figure()\n",
    "        angles_deg = np.degrees(pole_angles)\n",
    "        plt.plot(angles_deg, marker='.', linestyle='none', alpha=0.5)\n",
    "        plt.title(\"Pole Angles vs Timestep\")\n",
    "        plt.xlabel(\"Timestep\")\n",
    "        plt.ylabel(\"Pole Angle (degrees)\")\n",
    "        plt.savefig(\"pole_angles.png\")\n",
    "\n",
    "    if pole_angles and step_rewards:\n",
    "        plt.figure()\n",
    "        angles_deg = np.degrees(pole_angles)\n",
    "        plt.scatter(angles_deg, step_rewards, alpha=0.5)\n",
    "        plt.title(\"Pole Angle vs Reward\")\n",
    "        plt.xlabel(\"Pole Angle (degrees)\")\n",
    "        plt.ylabel(\"Reward\")\n",
    "        plt.savefig(\"pole_angle_vs_reward.png\")\n",
    "\n",
    "    plt.show()\n",
    "    env.close()\n",
    "\n",
    "\n"
   ]
  },
  {
   "cell_type": "code",
   "execution_count": null,
   "metadata": {},
   "outputs": [
    {
     "name": "stdout",
     "output_type": "stream",
     "text": [
      "Episode = 1 | Cumulative Reward = 100.23354571312666\n",
      "Episode = 2 | Cumulative Reward = 94.23469472676516\n",
      "Episode = 3 | Cumulative Reward = 100.22893638163805\n",
      "Episode = 4 | Cumulative Reward = 109.24123267829418\n"
     ]
    }
   ],
   "source": [
    "if __name__ == \"__main__\":\n",
    "    evaluate_model(\"/teamspace/studios/this_studio/checkpoints_clip/dqn_cartpole_clip_100000_steps.zip\")"
   ]
  }
 ],
 "metadata": {
  "language_info": {
   "name": "python"
  }
 },
 "nbformat": 4,
 "nbformat_minor": 2
}
